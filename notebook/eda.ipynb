{
 "cells": [
  {
   "cell_type": "code",
   "execution_count": 1,
   "id": "a3a9aa6d",
   "metadata": {},
   "outputs": [],
   "source": [
    "import pandas as pd \n",
    "df= pd.read_csv(\"C:\\\\Users\\\\saipr\\\\Netflex_Churn_Prediction\\\\data\\\\netflix_customer_churn.csv\")"
   ]
  },
  {
   "cell_type": "code",
   "execution_count": 2,
   "id": "23584788",
   "metadata": {},
   "outputs": [
    {
     "data": {
      "text/html": [
       "<div>\n",
       "<style scoped>\n",
       "    .dataframe tbody tr th:only-of-type {\n",
       "        vertical-align: middle;\n",
       "    }\n",
       "\n",
       "    .dataframe tbody tr th {\n",
       "        vertical-align: top;\n",
       "    }\n",
       "\n",
       "    .dataframe thead th {\n",
       "        text-align: right;\n",
       "    }\n",
       "</style>\n",
       "<table border=\"1\" class=\"dataframe\">\n",
       "  <thead>\n",
       "    <tr style=\"text-align: right;\">\n",
       "      <th></th>\n",
       "      <th>customer_id</th>\n",
       "      <th>age</th>\n",
       "      <th>gender</th>\n",
       "      <th>subscription_type</th>\n",
       "      <th>watch_hours</th>\n",
       "      <th>last_login_days</th>\n",
       "      <th>region</th>\n",
       "      <th>device</th>\n",
       "      <th>monthly_fee</th>\n",
       "      <th>churned</th>\n",
       "      <th>payment_method</th>\n",
       "      <th>number_of_profiles</th>\n",
       "      <th>avg_watch_time_per_day</th>\n",
       "      <th>favorite_genre</th>\n",
       "    </tr>\n",
       "  </thead>\n",
       "  <tbody>\n",
       "    <tr>\n",
       "      <th>0</th>\n",
       "      <td>a9b75100-82a8-427a-a208-72f24052884a</td>\n",
       "      <td>51</td>\n",
       "      <td>Other</td>\n",
       "      <td>Basic</td>\n",
       "      <td>14.73</td>\n",
       "      <td>29</td>\n",
       "      <td>Africa</td>\n",
       "      <td>TV</td>\n",
       "      <td>8.99</td>\n",
       "      <td>1</td>\n",
       "      <td>Gift Card</td>\n",
       "      <td>1</td>\n",
       "      <td>0.49</td>\n",
       "      <td>Action</td>\n",
       "    </tr>\n",
       "    <tr>\n",
       "      <th>1</th>\n",
       "      <td>49a5dfd9-7e69-4022-a6ad-0a1b9767fb5b</td>\n",
       "      <td>47</td>\n",
       "      <td>Other</td>\n",
       "      <td>Standard</td>\n",
       "      <td>0.70</td>\n",
       "      <td>19</td>\n",
       "      <td>Europe</td>\n",
       "      <td>Mobile</td>\n",
       "      <td>13.99</td>\n",
       "      <td>1</td>\n",
       "      <td>Gift Card</td>\n",
       "      <td>5</td>\n",
       "      <td>0.03</td>\n",
       "      <td>Sci-Fi</td>\n",
       "    </tr>\n",
       "    <tr>\n",
       "      <th>2</th>\n",
       "      <td>4d71f6ce-fca9-4ff7-8afa-197ac24de14b</td>\n",
       "      <td>27</td>\n",
       "      <td>Female</td>\n",
       "      <td>Standard</td>\n",
       "      <td>16.32</td>\n",
       "      <td>10</td>\n",
       "      <td>Asia</td>\n",
       "      <td>TV</td>\n",
       "      <td>13.99</td>\n",
       "      <td>0</td>\n",
       "      <td>Crypto</td>\n",
       "      <td>2</td>\n",
       "      <td>1.48</td>\n",
       "      <td>Drama</td>\n",
       "    </tr>\n",
       "    <tr>\n",
       "      <th>3</th>\n",
       "      <td>d3c72c38-631b-4f9e-8a0e-de103cad1a7d</td>\n",
       "      <td>53</td>\n",
       "      <td>Other</td>\n",
       "      <td>Premium</td>\n",
       "      <td>4.51</td>\n",
       "      <td>12</td>\n",
       "      <td>Oceania</td>\n",
       "      <td>TV</td>\n",
       "      <td>17.99</td>\n",
       "      <td>1</td>\n",
       "      <td>Crypto</td>\n",
       "      <td>2</td>\n",
       "      <td>0.35</td>\n",
       "      <td>Horror</td>\n",
       "    </tr>\n",
       "    <tr>\n",
       "      <th>4</th>\n",
       "      <td>4e265c34-103a-4dbb-9553-76c9aa47e946</td>\n",
       "      <td>56</td>\n",
       "      <td>Other</td>\n",
       "      <td>Standard</td>\n",
       "      <td>1.89</td>\n",
       "      <td>13</td>\n",
       "      <td>Africa</td>\n",
       "      <td>Mobile</td>\n",
       "      <td>13.99</td>\n",
       "      <td>1</td>\n",
       "      <td>Crypto</td>\n",
       "      <td>2</td>\n",
       "      <td>0.13</td>\n",
       "      <td>Action</td>\n",
       "    </tr>\n",
       "  </tbody>\n",
       "</table>\n",
       "</div>"
      ],
      "text/plain": [
       "                            customer_id  age  gender subscription_type  \\\n",
       "0  a9b75100-82a8-427a-a208-72f24052884a   51   Other             Basic   \n",
       "1  49a5dfd9-7e69-4022-a6ad-0a1b9767fb5b   47   Other          Standard   \n",
       "2  4d71f6ce-fca9-4ff7-8afa-197ac24de14b   27  Female          Standard   \n",
       "3  d3c72c38-631b-4f9e-8a0e-de103cad1a7d   53   Other           Premium   \n",
       "4  4e265c34-103a-4dbb-9553-76c9aa47e946   56   Other          Standard   \n",
       "\n",
       "   watch_hours  last_login_days   region  device  monthly_fee  churned  \\\n",
       "0        14.73               29   Africa      TV         8.99        1   \n",
       "1         0.70               19   Europe  Mobile        13.99        1   \n",
       "2        16.32               10     Asia      TV        13.99        0   \n",
       "3         4.51               12  Oceania      TV        17.99        1   \n",
       "4         1.89               13   Africa  Mobile        13.99        1   \n",
       "\n",
       "  payment_method  number_of_profiles  avg_watch_time_per_day favorite_genre  \n",
       "0      Gift Card                   1                    0.49         Action  \n",
       "1      Gift Card                   5                    0.03         Sci-Fi  \n",
       "2         Crypto                   2                    1.48          Drama  \n",
       "3         Crypto                   2                    0.35         Horror  \n",
       "4         Crypto                   2                    0.13         Action  "
      ]
     },
     "execution_count": 2,
     "metadata": {},
     "output_type": "execute_result"
    }
   ],
   "source": [
    "df.head()"
   ]
  },
  {
   "cell_type": "code",
   "execution_count": 3,
   "id": "b691ec03",
   "metadata": {},
   "outputs": [
    {
     "data": {
      "text/plain": [
       "(5000, 14)"
      ]
     },
     "execution_count": 3,
     "metadata": {},
     "output_type": "execute_result"
    }
   ],
   "source": [
    "df.shape"
   ]
  },
  {
   "cell_type": "code",
   "execution_count": 4,
   "id": "277d3f37",
   "metadata": {},
   "outputs": [
    {
     "data": {
      "text/html": [
       "<div>\n",
       "<style scoped>\n",
       "    .dataframe tbody tr th:only-of-type {\n",
       "        vertical-align: middle;\n",
       "    }\n",
       "\n",
       "    .dataframe tbody tr th {\n",
       "        vertical-align: top;\n",
       "    }\n",
       "\n",
       "    .dataframe thead th {\n",
       "        text-align: right;\n",
       "    }\n",
       "</style>\n",
       "<table border=\"1\" class=\"dataframe\">\n",
       "  <thead>\n",
       "    <tr style=\"text-align: right;\">\n",
       "      <th></th>\n",
       "      <th>age</th>\n",
       "      <th>watch_hours</th>\n",
       "      <th>last_login_days</th>\n",
       "      <th>monthly_fee</th>\n",
       "      <th>churned</th>\n",
       "      <th>number_of_profiles</th>\n",
       "      <th>avg_watch_time_per_day</th>\n",
       "    </tr>\n",
       "  </thead>\n",
       "  <tbody>\n",
       "    <tr>\n",
       "      <th>count</th>\n",
       "      <td>5000.000000</td>\n",
       "      <td>5000.000000</td>\n",
       "      <td>5000.000000</td>\n",
       "      <td>5000.000000</td>\n",
       "      <td>5000.000000</td>\n",
       "      <td>5000.000000</td>\n",
       "      <td>5000.000000</td>\n",
       "    </tr>\n",
       "    <tr>\n",
       "      <th>mean</th>\n",
       "      <td>43.847400</td>\n",
       "      <td>11.649450</td>\n",
       "      <td>30.089800</td>\n",
       "      <td>13.683400</td>\n",
       "      <td>0.503000</td>\n",
       "      <td>3.024400</td>\n",
       "      <td>0.874800</td>\n",
       "    </tr>\n",
       "    <tr>\n",
       "      <th>std</th>\n",
       "      <td>15.501128</td>\n",
       "      <td>12.014654</td>\n",
       "      <td>17.536078</td>\n",
       "      <td>3.692062</td>\n",
       "      <td>0.500041</td>\n",
       "      <td>1.415841</td>\n",
       "      <td>2.619824</td>\n",
       "    </tr>\n",
       "    <tr>\n",
       "      <th>min</th>\n",
       "      <td>18.000000</td>\n",
       "      <td>0.010000</td>\n",
       "      <td>0.000000</td>\n",
       "      <td>8.990000</td>\n",
       "      <td>0.000000</td>\n",
       "      <td>1.000000</td>\n",
       "      <td>0.000000</td>\n",
       "    </tr>\n",
       "    <tr>\n",
       "      <th>25%</th>\n",
       "      <td>30.000000</td>\n",
       "      <td>3.337500</td>\n",
       "      <td>15.000000</td>\n",
       "      <td>8.990000</td>\n",
       "      <td>0.000000</td>\n",
       "      <td>2.000000</td>\n",
       "      <td>0.110000</td>\n",
       "    </tr>\n",
       "    <tr>\n",
       "      <th>50%</th>\n",
       "      <td>44.000000</td>\n",
       "      <td>8.000000</td>\n",
       "      <td>30.000000</td>\n",
       "      <td>13.990000</td>\n",
       "      <td>1.000000</td>\n",
       "      <td>3.000000</td>\n",
       "      <td>0.290000</td>\n",
       "    </tr>\n",
       "    <tr>\n",
       "      <th>75%</th>\n",
       "      <td>58.000000</td>\n",
       "      <td>16.030000</td>\n",
       "      <td>45.000000</td>\n",
       "      <td>17.990000</td>\n",
       "      <td>1.000000</td>\n",
       "      <td>4.000000</td>\n",
       "      <td>0.720000</td>\n",
       "    </tr>\n",
       "    <tr>\n",
       "      <th>max</th>\n",
       "      <td>70.000000</td>\n",
       "      <td>110.400000</td>\n",
       "      <td>60.000000</td>\n",
       "      <td>17.990000</td>\n",
       "      <td>1.000000</td>\n",
       "      <td>5.000000</td>\n",
       "      <td>98.420000</td>\n",
       "    </tr>\n",
       "  </tbody>\n",
       "</table>\n",
       "</div>"
      ],
      "text/plain": [
       "               age  watch_hours  last_login_days  monthly_fee      churned  \\\n",
       "count  5000.000000  5000.000000      5000.000000  5000.000000  5000.000000   \n",
       "mean     43.847400    11.649450        30.089800    13.683400     0.503000   \n",
       "std      15.501128    12.014654        17.536078     3.692062     0.500041   \n",
       "min      18.000000     0.010000         0.000000     8.990000     0.000000   \n",
       "25%      30.000000     3.337500        15.000000     8.990000     0.000000   \n",
       "50%      44.000000     8.000000        30.000000    13.990000     1.000000   \n",
       "75%      58.000000    16.030000        45.000000    17.990000     1.000000   \n",
       "max      70.000000   110.400000        60.000000    17.990000     1.000000   \n",
       "\n",
       "       number_of_profiles  avg_watch_time_per_day  \n",
       "count         5000.000000             5000.000000  \n",
       "mean             3.024400                0.874800  \n",
       "std              1.415841                2.619824  \n",
       "min              1.000000                0.000000  \n",
       "25%              2.000000                0.110000  \n",
       "50%              3.000000                0.290000  \n",
       "75%              4.000000                0.720000  \n",
       "max              5.000000               98.420000  "
      ]
     },
     "execution_count": 4,
     "metadata": {},
     "output_type": "execute_result"
    }
   ],
   "source": [
    "df.describe(include='number')"
   ]
  },
  {
   "cell_type": "code",
   "execution_count": 5,
   "id": "539c4855",
   "metadata": {},
   "outputs": [
    {
     "data": {
      "text/html": [
       "<div>\n",
       "<style scoped>\n",
       "    .dataframe tbody tr th:only-of-type {\n",
       "        vertical-align: middle;\n",
       "    }\n",
       "\n",
       "    .dataframe tbody tr th {\n",
       "        vertical-align: top;\n",
       "    }\n",
       "\n",
       "    .dataframe thead th {\n",
       "        text-align: right;\n",
       "    }\n",
       "</style>\n",
       "<table border=\"1\" class=\"dataframe\">\n",
       "  <thead>\n",
       "    <tr style=\"text-align: right;\">\n",
       "      <th></th>\n",
       "      <th>customer_id</th>\n",
       "      <th>gender</th>\n",
       "      <th>subscription_type</th>\n",
       "      <th>region</th>\n",
       "      <th>device</th>\n",
       "      <th>payment_method</th>\n",
       "      <th>favorite_genre</th>\n",
       "    </tr>\n",
       "  </thead>\n",
       "  <tbody>\n",
       "    <tr>\n",
       "      <th>count</th>\n",
       "      <td>5000</td>\n",
       "      <td>5000</td>\n",
       "      <td>5000</td>\n",
       "      <td>5000</td>\n",
       "      <td>5000</td>\n",
       "      <td>5000</td>\n",
       "      <td>5000</td>\n",
       "    </tr>\n",
       "    <tr>\n",
       "      <th>unique</th>\n",
       "      <td>5000</td>\n",
       "      <td>3</td>\n",
       "      <td>3</td>\n",
       "      <td>6</td>\n",
       "      <td>5</td>\n",
       "      <td>5</td>\n",
       "      <td>7</td>\n",
       "    </tr>\n",
       "    <tr>\n",
       "      <th>top</th>\n",
       "      <td>82aeef39-ddb0-40ad-bae1-5c436e0cf042</td>\n",
       "      <td>Female</td>\n",
       "      <td>Premium</td>\n",
       "      <td>South America</td>\n",
       "      <td>Tablet</td>\n",
       "      <td>Debit Card</td>\n",
       "      <td>Drama</td>\n",
       "    </tr>\n",
       "    <tr>\n",
       "      <th>freq</th>\n",
       "      <td>1</td>\n",
       "      <td>1711</td>\n",
       "      <td>1693</td>\n",
       "      <td>873</td>\n",
       "      <td>1048</td>\n",
       "      <td>1030</td>\n",
       "      <td>731</td>\n",
       "    </tr>\n",
       "  </tbody>\n",
       "</table>\n",
       "</div>"
      ],
      "text/plain": [
       "                                 customer_id  gender subscription_type  \\\n",
       "count                                   5000    5000              5000   \n",
       "unique                                  5000       3                 3   \n",
       "top     82aeef39-ddb0-40ad-bae1-5c436e0cf042  Female           Premium   \n",
       "freq                                       1    1711              1693   \n",
       "\n",
       "               region  device payment_method favorite_genre  \n",
       "count            5000    5000           5000           5000  \n",
       "unique              6       5              5              7  \n",
       "top     South America  Tablet     Debit Card          Drama  \n",
       "freq              873    1048           1030            731  "
      ]
     },
     "execution_count": 5,
     "metadata": {},
     "output_type": "execute_result"
    }
   ],
   "source": [
    "df.describe(include='object')"
   ]
  },
  {
   "cell_type": "code",
   "execution_count": 6,
   "id": "e40ca6ec",
   "metadata": {},
   "outputs": [
    {
     "data": {
      "text/plain": [
       "Index(['customer_id', 'age', 'gender', 'subscription_type', 'watch_hours',\n",
       "       'last_login_days', 'region', 'device', 'monthly_fee', 'churned',\n",
       "       'payment_method', 'number_of_profiles', 'avg_watch_time_per_day',\n",
       "       'favorite_genre'],\n",
       "      dtype='object')"
      ]
     },
     "execution_count": 6,
     "metadata": {},
     "output_type": "execute_result"
    }
   ],
   "source": [
    "df.columns"
   ]
  },
  {
   "cell_type": "code",
   "execution_count": 7,
   "id": "5e9581f1",
   "metadata": {},
   "outputs": [
    {
     "data": {
      "text/plain": [
       "Index(['age', 'watch_hours', 'last_login_days', 'monthly_fee', 'churned',\n",
       "       'number_of_profiles', 'avg_watch_time_per_day'],\n",
       "      dtype='object')"
      ]
     },
     "execution_count": 7,
     "metadata": {},
     "output_type": "execute_result"
    }
   ],
   "source": [
    "df.select_dtypes(include='number').columns"
   ]
  },
  {
   "cell_type": "code",
   "execution_count": 8,
   "id": "020d1c13",
   "metadata": {},
   "outputs": [
    {
     "data": {
      "text/plain": [
       "Index(['customer_id', 'gender', 'subscription_type', 'region', 'device',\n",
       "       'payment_method', 'favorite_genre'],\n",
       "      dtype='object')"
      ]
     },
     "execution_count": 8,
     "metadata": {},
     "output_type": "execute_result"
    }
   ],
   "source": [
    "df.select_dtypes(include='object').columns"
   ]
  },
  {
   "cell_type": "code",
   "execution_count": 9,
   "id": "7cd54ae2",
   "metadata": {},
   "outputs": [
    {
     "name": "stdout",
     "output_type": "stream",
     "text": [
      "<class 'pandas.core.frame.DataFrame'>\n",
      "RangeIndex: 5000 entries, 0 to 4999\n",
      "Data columns (total 14 columns):\n",
      " #   Column                  Non-Null Count  Dtype  \n",
      "---  ------                  --------------  -----  \n",
      " 0   customer_id             5000 non-null   object \n",
      " 1   age                     5000 non-null   int64  \n",
      " 2   gender                  5000 non-null   object \n",
      " 3   subscription_type       5000 non-null   object \n",
      " 4   watch_hours             5000 non-null   float64\n",
      " 5   last_login_days         5000 non-null   int64  \n",
      " 6   region                  5000 non-null   object \n",
      " 7   device                  5000 non-null   object \n",
      " 8   monthly_fee             5000 non-null   float64\n",
      " 9   churned                 5000 non-null   int64  \n",
      " 10  payment_method          5000 non-null   object \n",
      " 11  number_of_profiles      5000 non-null   int64  \n",
      " 12  avg_watch_time_per_day  5000 non-null   float64\n",
      " 13  favorite_genre          5000 non-null   object \n",
      "dtypes: float64(3), int64(4), object(7)\n",
      "memory usage: 547.0+ KB\n"
     ]
    }
   ],
   "source": [
    "df.info()"
   ]
  },
  {
   "cell_type": "code",
   "execution_count": 10,
   "id": "5d7e1c3e",
   "metadata": {},
   "outputs": [
    {
     "data": {
      "text/plain": [
       "customer_id               0\n",
       "age                       0\n",
       "gender                    0\n",
       "subscription_type         0\n",
       "watch_hours               0\n",
       "last_login_days           0\n",
       "region                    0\n",
       "device                    0\n",
       "monthly_fee               0\n",
       "churned                   0\n",
       "payment_method            0\n",
       "number_of_profiles        0\n",
       "avg_watch_time_per_day    0\n",
       "favorite_genre            0\n",
       "dtype: int64"
      ]
     },
     "execution_count": 10,
     "metadata": {},
     "output_type": "execute_result"
    }
   ],
   "source": [
    "df.isnull().sum()"
   ]
  },
  {
   "cell_type": "code",
   "execution_count": 11,
   "id": "74d555f1",
   "metadata": {},
   "outputs": [
    {
     "data": {
      "text/plain": [
       "customer_id               0.0\n",
       "age                       0.0\n",
       "gender                    0.0\n",
       "subscription_type         0.0\n",
       "watch_hours               0.0\n",
       "last_login_days           0.0\n",
       "region                    0.0\n",
       "device                    0.0\n",
       "monthly_fee               0.0\n",
       "churned                   0.0\n",
       "payment_method            0.0\n",
       "number_of_profiles        0.0\n",
       "avg_watch_time_per_day    0.0\n",
       "favorite_genre            0.0\n",
       "dtype: float64"
      ]
     },
     "execution_count": 11,
     "metadata": {},
     "output_type": "execute_result"
    }
   ],
   "source": [
    "df.isnull().mean() * 100"
   ]
  },
  {
   "cell_type": "code",
   "execution_count": 12,
   "id": "5a4024ac",
   "metadata": {},
   "outputs": [
    {
     "data": {
      "text/plain": [
       "customer_id                object\n",
       "age                         int64\n",
       "gender                     object\n",
       "subscription_type          object\n",
       "watch_hours               float64\n",
       "last_login_days             int64\n",
       "region                     object\n",
       "device                     object\n",
       "monthly_fee               float64\n",
       "churned                     int64\n",
       "payment_method             object\n",
       "number_of_profiles          int64\n",
       "avg_watch_time_per_day    float64\n",
       "favorite_genre             object\n",
       "dtype: object"
      ]
     },
     "execution_count": 12,
     "metadata": {},
     "output_type": "execute_result"
    }
   ],
   "source": [
    "df.dtypes"
   ]
  },
  {
   "cell_type": "code",
   "execution_count": 13,
   "id": "dd89724f",
   "metadata": {},
   "outputs": [
    {
     "data": {
      "text/plain": [
       "customer_id               5000\n",
       "age                         53\n",
       "gender                       3\n",
       "subscription_type            3\n",
       "watch_hours               2343\n",
       "last_login_days             61\n",
       "region                       6\n",
       "device                       5\n",
       "monthly_fee                  3\n",
       "churned                      2\n",
       "payment_method               5\n",
       "number_of_profiles           5\n",
       "avg_watch_time_per_day     505\n",
       "favorite_genre               7\n",
       "dtype: int64"
      ]
     },
     "execution_count": 13,
     "metadata": {},
     "output_type": "execute_result"
    }
   ],
   "source": [
    "df.nunique()"
   ]
  },
  {
   "cell_type": "code",
   "execution_count": 14,
   "id": "cdb8529f",
   "metadata": {},
   "outputs": [
    {
     "data": {
      "text/plain": [
       "np.int64(0)"
      ]
     },
     "execution_count": 14,
     "metadata": {},
     "output_type": "execute_result"
    }
   ],
   "source": [
    "df.duplicated().sum()"
   ]
  },
  {
   "cell_type": "code",
   "execution_count": 15,
   "id": "97e823fc",
   "metadata": {},
   "outputs": [],
   "source": [
    "df.drop('customer_id',axis=1,inplace=True)"
   ]
  },
  {
   "cell_type": "code",
   "execution_count": 16,
   "id": "ef464df1",
   "metadata": {},
   "outputs": [
    {
     "data": {
      "text/plain": [
       "churned\n",
       "1    2515\n",
       "0    2485\n",
       "Name: count, dtype: int64"
      ]
     },
     "execution_count": 16,
     "metadata": {},
     "output_type": "execute_result"
    }
   ],
   "source": [
    "df['churned'].value_counts()"
   ]
  },
  {
   "cell_type": "markdown",
   "id": "f441e25e",
   "metadata": {},
   "source": [
    "## Exploratory Data Analysis"
   ]
  },
  {
   "cell_type": "markdown",
   "id": "66c6cd22",
   "metadata": {},
   "source": [
    "Age"
   ]
  },
  {
   "cell_type": "code",
   "execution_count": 19,
   "id": "bbc0852b",
   "metadata": {},
   "outputs": [
    {
     "data": {
      "text/plain": [
       "count    5000.000000\n",
       "mean       43.847400\n",
       "std        15.501128\n",
       "min        18.000000\n",
       "25%        30.000000\n",
       "50%        44.000000\n",
       "75%        58.000000\n",
       "max        70.000000\n",
       "Name: age, dtype: float64"
      ]
     },
     "execution_count": 19,
     "metadata": {},
     "output_type": "execute_result"
    }
   ],
   "source": [
    "df['age'].describe()"
   ]
  },
  {
   "cell_type": "code",
   "execution_count": 30,
   "id": "85291e25",
   "metadata": {},
   "outputs": [
    {
     "data": {
      "text/plain": [
       "Text(0.5, 1.0, 'Age Distribution')"
      ]
     },
     "execution_count": 30,
     "metadata": {},
     "output_type": "execute_result"
    },
    {
     "data": {
      "image/png": "[encoded data removed]",
      "text/plain": [
       "<Figure size 640x480 with 1 Axes>"
      ]
     },
     "metadata": {},
     "output_type": "display_data"
    }
   ],
   "source": [
    "import seaborn as sns \n",
    "import matplotlib.pyplot as plt\n",
    "import warnings\n",
    "warnings.filterwarnings('ignore')\n",
    "sns.distplot(x=df['age'])\n",
    "plt.title(\"Age Distribution\")"
   ]
  },
  {
   "cell_type": "code",
   "execution_count": 23,
   "id": "4df44c19",
   "metadata": {},
   "outputs": [
    {
     "data": {
      "text/plain": [
       "np.float64(0.006334266359717476)"
      ]
     },
     "execution_count": 23,
     "metadata": {},
     "output_type": "execute_result"
    }
   ],
   "source": [
    "df['age'].skew()"
   ]
  },
  {
   "cell_type": "code",
   "execution_count": 27,
   "id": "7e83b614",
   "metadata": {},
   "outputs": [
    {
     "data": {
      "text/plain": [
       "<Axes: xlabel='age', ylabel='Count'>"
      ]
     },
     "execution_count": 27,
     "metadata": {},
     "output_type": "execute_result"
    },
    {
     "data": {
      "image/png": "[encoded data removed]",
      "text/plain": [
       "<Figure size 640x480 with 1 Axes>"
      ]
     },
     "metadata": {},
     "output_type": "display_data"
    }
   ],
   "source": [
    "sns.histplot(x=df['age'],bins=50,kde=True)"
   ]
  },
  {
   "cell_type": "code",
   "execution_count": 28,
   "id": "5752b02c",
   "metadata": {},
   "outputs": [
    {
     "data": {
      "text/plain": [
       "<Axes: xlabel='age'>"
      ]
     },
     "execution_count": 28,
     "metadata": {},
     "output_type": "execute_result"
    },
    {
     "data": {
      "image/png": "[encoded data removed]",
      "text/plain": [
       "<Figure size 640x480 with 1 Axes>"
      ]
     },
     "metadata": {},
     "output_type": "display_data"
    }
   ],
   "source": [
    "sns.boxplot(x=df['age'])"
   ]
  },
  {
   "cell_type": "markdown",
   "id": "6a8e4240",
   "metadata": {},
   "source": [
    "Conclusion from Age Distribution Plot\n",
    "\n",
    "The age range of users is broad (18–70), with no single dominant group.\n",
    "\n",
    "The distribution is roughly uniform, meaning users are spread across different age brackets.\n",
    "\n",
    "Slight peaks around 20s, 30s, 40s, 50s, and 60s suggest multiple significant cohorts.\n",
    "\n",
    "Since no strong skew exists, age alone is not the main driver of churn, but it should still be considered as part of a feature set for modeling.\n",
    "\n",
    "Retention strategies should be diversified, as both younger and older segments are well represented.\n",
    "\n"
   ]
  },
  {
   "cell_type": "markdown",
   "id": "e97eeba9",
   "metadata": {},
   "source": [
    "churned feature"
   ]
  },
  {
   "cell_type": "code",
   "execution_count": 32,
   "id": "0521f6f2",
   "metadata": {},
   "outputs": [
    {
     "data": {
      "text/plain": [
       "churned\n",
       "1    2515\n",
       "0    2485\n",
       "Name: count, dtype: int64"
      ]
     },
     "execution_count": 32,
     "metadata": {},
     "output_type": "execute_result"
    }
   ],
   "source": [
    "df['churned'].value_counts()"
   ]
  },
  {
   "cell_type": "code",
   "execution_count": 34,
   "id": "3bb83104",
   "metadata": {},
   "outputs": [
    {
     "data": {
      "image/png": "[encoded data removed]",
      "text/plain": [
       "<Figure size 640x480 with 1 Axes>"
      ]
     },
     "metadata": {},
     "output_type": "display_data"
    }
   ],
   "source": [
    "ax=sns.countplot(x=df['churned'])\n",
    "for bars in ax.containers:\n",
    "    ax.bar_label(bars)"
   ]
  },
  {
   "cell_type": "code",
   "execution_count": null,
   "id": "2ada0848",
   "metadata": {},
   "outputs": [
    {
     "data": {
      "image/png": "[encoded data removed]",
      "text/plain": [
       "<Figure size 600x600 with 1 Axes>"
      ]
     },
     "metadata": {},
     "output_type": "display_data"
    }
   ],
   "source": [
    "import matplotlib.pyplot as plt\n",
    "\n",
    "churn_counts = df['churned'].value_counts()\n",
    "labels = [0,1]  \n",
    "colors = ['#66b3ff', '#ff9999']\n",
    "\n",
    "plt.figure(figsize=(6,6))\n",
    "plt.pie(churn_counts, labels=labels, colors=colors, autopct='%1.1f%%', startangle=90)\n",
    "plt.title('Customer Churn Distribution')\n",
    "plt.show()\n"
   ]
  },
  {
   "cell_type": "code",
   "execution_count": 37,
   "id": "02aecb8c",
   "metadata": {},
   "outputs": [
    {
     "data": {
      "image/png": "[encoded data removed]",
      "text/plain": [
       "<Figure size 800x500 with 1 Axes>"
      ]
     },
     "metadata": {},
     "output_type": "display_data"
    }
   ],
   "source": [
    "import seaborn as sns\n",
    "import matplotlib.pyplot as plt\n",
    "\n",
    "plt.figure(figsize=(8,5))\n",
    "sns.histplot(data=df, x='age', hue='churned', kde=True, bins=20, palette=['#66b3ff','#ff9999'], alpha=0.6)\n",
    "plt.title('Age Distribution by Churn Status')\n",
    "plt.xlabel('Age')\n",
    "plt.ylabel('Count')\n",
    "plt.legend(labels=['Active','Churned'])\n",
    "plt.show()\n"
   ]
  },
  {
   "cell_type": "code",
   "execution_count": 38,
   "id": "79f75240",
   "metadata": {},
   "outputs": [
    {
     "data": {
      "image/png": "[encoded data removed]",
      "text/plain": [
       "<Figure size 600x500 with 1 Axes>"
      ]
     },
     "metadata": {},
     "output_type": "display_data"
    }
   ],
   "source": [
    "plt.figure(figsize=(6,5))\n",
    "sns.boxplot(data=df, x='churned', y='age', palette=['#66b3ff','#ff9999'])\n",
    "plt.title('Age vs Churn Status')\n",
    "plt.xlabel('Churned (0 = Active, 1 = Churned)')\n",
    "plt.ylabel('Age')\n",
    "plt.show()\n"
   ]
  },
  {
   "cell_type": "code",
   "execution_count": 39,
   "id": "eebe78d8",
   "metadata": {},
   "outputs": [
    {
     "data": {
      "image/png": "[encoded data removed]",
      "text/plain": [
       "<Figure size 600x500 with 1 Axes>"
      ]
     },
     "metadata": {},
     "output_type": "display_data"
    }
   ],
   "source": [
    "avg_age = df.groupby('churned')['age'].mean().reset_index()\n",
    "\n",
    "plt.figure(figsize=(6,5))\n",
    "sns.barplot(data=avg_age, x='churned', y='age', palette=['#66b3ff','#ff9999'])\n",
    "plt.title('Average Age by Churn Status')\n",
    "plt.xlabel('Churned (0 = Active, 1 = Churned)')\n",
    "plt.ylabel('Average Age')\n",
    "plt.show()\n"
   ]
  },
  {
   "cell_type": "code",
   "execution_count": 41,
   "id": "9d03be7d",
   "metadata": {},
   "outputs": [
    {
     "data": {
      "image/png": "[encoded data removed]",
      "text/plain": [
       "<Figure size 640x480 with 1 Axes>"
      ]
     },
     "metadata": {},
     "output_type": "display_data"
    }
   ],
   "source": [
    "sns.distplot(df[df['churned']==0]['age'], label='Active', hist=True, kde=True)\n",
    "sns.distplot(df[df['churned']==1]['age'], label='Churned', hist=True, kde=True)\n",
    "plt.title('Age Distribution by Churn Status')\n",
    "plt.xlabel('Age')\n",
    "plt.ylabel('Density')\n",
    "plt.legend()\n",
    "plt.show()\n"
   ]
  },
  {
   "cell_type": "code",
   "execution_count": 42,
   "id": "c6685d0f",
   "metadata": {},
   "outputs": [
    {
     "data": {
      "image/png": "[encoded data removed]",
      "text/plain": [
       "<Figure size 800x500 with 1 Axes>"
      ]
     },
     "metadata": {},
     "output_type": "display_data"
    }
   ],
   "source": [
    "import seaborn as sns\n",
    "import matplotlib.pyplot as plt\n",
    "\n",
    "plt.figure(figsize=(8,5))\n",
    "sns.kdeplot(data=df[df['churned']==0], x='age', label='Active', color='#66b3ff', fill=True, alpha=0.4)\n",
    "sns.kdeplot(data=df[df['churned']==1], x='age', label='Churned', color='#ff9999', fill=True, alpha=0.4)\n",
    "\n",
    "plt.title('KDE Plot: Age Distribution by Churn Status')\n",
    "plt.xlabel('Age')\n",
    "plt.ylabel('Density')\n",
    "plt.legend()\n",
    "plt.show()\n"
   ]
  },
  {
   "cell_type": "code",
   "execution_count": 43,
   "id": "5f5e1419",
   "metadata": {},
   "outputs": [
    {
     "name": "stdout",
     "output_type": "stream",
     "text": [
      "Normality p-values -> Active: 0.0000, Churned: 0.0000\n",
      "\n",
      "⚠️ At least one group is not normal -> Using Mann-Whitney U test\n",
      "U-statistic: 3139121.0000, P-value: 0.7803\n",
      "❌ No significant difference in age distribution between churned and active users.\n"
     ]
    }
   ],
   "source": [
    "import pandas as pd\n",
    "from scipy.stats import shapiro, ttest_ind, mannwhitneyu\n",
    "\n",
    "age_active = df[df['churned']==0]['age']\n",
    "age_churned = df[df['churned']==1]['age']\n",
    "\n",
    "stat_active, p_active = shapiro(age_active.sample(500, random_state=42))  \n",
    "stat_churned, p_churned = shapiro(age_churned.sample(500, random_state=42))\n",
    "\n",
    "normal_active = p_active > 0.05\n",
    "normal_churned = p_churned > 0.05\n",
    "\n",
    "print(f\"Normality p-values -> Active: {p_active:.4f}, Churned: {p_churned:.4f}\")\n",
    "\n",
    "if normal_active and normal_churned:\n",
    "    t_stat, p_val = ttest_ind(age_active, age_churned, equal_var=False)\n",
    "    print(\"\\n✅ Both groups are normal -> Using Welch's t-test\")\n",
    "    print(f\"T-statistic: {t_stat:.4f}, P-value: {p_val:.4f}\")\n",
    "else:\n",
    "    u_stat, p_val = mannwhitneyu(age_active, age_churned, alternative='two-sided')\n",
    "    print(\"\\n⚠️ At least one group is not normal -> Using Mann-Whitney U test\")\n",
    "    print(f\"U-statistic: {u_stat:.4f}, P-value: {p_val:.4f}\")\n",
    "\n",
    "# Interpretation\n",
    "if p_val < 0.05:\n",
    "    print(\"✅ Significant difference in age distribution between churned and active users.\")\n",
    "else:\n",
    "    print(\"❌ No significant difference in age distribution between churned and active users.\")\n"
   ]
  },
  {
   "cell_type": "code",
   "execution_count": 47,
   "id": "c780a1fb",
   "metadata": {},
   "outputs": [
    {
     "name": "stdout",
     "output_type": "stream",
     "text": [
      "Welch's t-test -> T-statistic: 0.2485, P-value: 0.8037\n",
      "❌ No significant difference in mean age between churned and active users.\n"
     ]
    }
   ],
   "source": [
    "from scipy.stats import ttest_ind\n",
    "\n",
    "age_active = df[df['churned']==0]['age']\n",
    "age_churned = df[df['churned']==1]['age']\n",
    "\n",
    "t_stat, p_val = ttest_ind(age_active, age_churned, equal_var=False)\n",
    "print(f\"Welch's t-test -> T-statistic: {t_stat:.4f}, P-value: {p_val:.4f}\")\n",
    "\n",
    "if p_val < 0.05:\n",
    "    print(\"✅ Significant difference in mean age between churned and active users.\")\n",
    "else:\n",
    "    print(\"❌ No significant difference in mean age between churned and active users.\")\n"
   ]
  },
  {
   "cell_type": "code",
   "execution_count": 45,
   "id": "f732e5dd",
   "metadata": {},
   "outputs": [
    {
     "data": {
      "text/plain": [
       "np.float64(0.002448339026473261)"
      ]
     },
     "execution_count": 45,
     "metadata": {},
     "output_type": "execute_result"
    }
   ],
   "source": [
    "age_churned.skew()"
   ]
  },
  {
   "cell_type": "code",
   "execution_count": 46,
   "id": "a0fefea4",
   "metadata": {},
   "outputs": [
    {
     "data": {
      "text/plain": [
       "np.float64(0.010144251507949864)"
      ]
     },
     "execution_count": 46,
     "metadata": {},
     "output_type": "execute_result"
    }
   ],
   "source": [
    "age_active.skew()"
   ]
  },
  {
   "cell_type": "markdown",
   "id": "f39e5b59",
   "metadata": {},
   "source": [
    "✅ Key Insights\n",
    "\n",
    "Age does NOT influence churn behavior in this dataset.\n",
    "\n",
    "Churn is likely driven by other factors (subscription type, engagement, last login, watch hours, etc.) rather than age.\n",
    "\n",
    "Marketing or retention strategies should not rely on age segmentation alone.\n",
    "\n",
    "✅ Summary Conclusion\n",
    "\n",
    "Age distribution between churned and active customers is almost identical.\n",
    "\n",
    "Both statistical tests and visual analysis indicate no statistically significant difference.\n",
    "\n",
    "Focus analysis on behavioral, subscription, and engagement features for churn prediction.\n",
    "\n"
   ]
  },
  {
   "cell_type": "code",
   "execution_count": 48,
   "id": "4d8d090a",
   "metadata": {},
   "outputs": [
    {
     "data": {
      "text/html": [
       "<div>\n",
       "<style scoped>\n",
       "    .dataframe tbody tr th:only-of-type {\n",
       "        vertical-align: middle;\n",
       "    }\n",
       "\n",
       "    .dataframe tbody tr th {\n",
       "        vertical-align: top;\n",
       "    }\n",
       "\n",
       "    .dataframe thead th {\n",
       "        text-align: right;\n",
       "    }\n",
       "</style>\n",
       "<table border=\"1\" class=\"dataframe\">\n",
       "  <thead>\n",
       "    <tr style=\"text-align: right;\">\n",
       "      <th></th>\n",
       "      <th>age</th>\n",
       "      <th>gender</th>\n",
       "      <th>subscription_type</th>\n",
       "      <th>watch_hours</th>\n",
       "      <th>last_login_days</th>\n",
       "      <th>region</th>\n",
       "      <th>device</th>\n",
       "      <th>monthly_fee</th>\n",
       "      <th>churned</th>\n",
       "      <th>payment_method</th>\n",
       "      <th>number_of_profiles</th>\n",
       "      <th>avg_watch_time_per_day</th>\n",
       "      <th>favorite_genre</th>\n",
       "    </tr>\n",
       "  </thead>\n",
       "  <tbody>\n",
       "    <tr>\n",
       "      <th>0</th>\n",
       "      <td>51</td>\n",
       "      <td>Other</td>\n",
       "      <td>Basic</td>\n",
       "      <td>14.73</td>\n",
       "      <td>29</td>\n",
       "      <td>Africa</td>\n",
       "      <td>TV</td>\n",
       "      <td>8.99</td>\n",
       "      <td>1</td>\n",
       "      <td>Gift Card</td>\n",
       "      <td>1</td>\n",
       "      <td>0.49</td>\n",
       "      <td>Action</td>\n",
       "    </tr>\n",
       "    <tr>\n",
       "      <th>1</th>\n",
       "      <td>47</td>\n",
       "      <td>Other</td>\n",
       "      <td>Standard</td>\n",
       "      <td>0.70</td>\n",
       "      <td>19</td>\n",
       "      <td>Europe</td>\n",
       "      <td>Mobile</td>\n",
       "      <td>13.99</td>\n",
       "      <td>1</td>\n",
       "      <td>Gift Card</td>\n",
       "      <td>5</td>\n",
       "      <td>0.03</td>\n",
       "      <td>Sci-Fi</td>\n",
       "    </tr>\n",
       "    <tr>\n",
       "      <th>2</th>\n",
       "      <td>27</td>\n",
       "      <td>Female</td>\n",
       "      <td>Standard</td>\n",
       "      <td>16.32</td>\n",
       "      <td>10</td>\n",
       "      <td>Asia</td>\n",
       "      <td>TV</td>\n",
       "      <td>13.99</td>\n",
       "      <td>0</td>\n",
       "      <td>Crypto</td>\n",
       "      <td>2</td>\n",
       "      <td>1.48</td>\n",
       "      <td>Drama</td>\n",
       "    </tr>\n",
       "    <tr>\n",
       "      <th>3</th>\n",
       "      <td>53</td>\n",
       "      <td>Other</td>\n",
       "      <td>Premium</td>\n",
       "      <td>4.51</td>\n",
       "      <td>12</td>\n",
       "      <td>Oceania</td>\n",
       "      <td>TV</td>\n",
       "      <td>17.99</td>\n",
       "      <td>1</td>\n",
       "      <td>Crypto</td>\n",
       "      <td>2</td>\n",
       "      <td>0.35</td>\n",
       "      <td>Horror</td>\n",
       "    </tr>\n",
       "    <tr>\n",
       "      <th>4</th>\n",
       "      <td>56</td>\n",
       "      <td>Other</td>\n",
       "      <td>Standard</td>\n",
       "      <td>1.89</td>\n",
       "      <td>13</td>\n",
       "      <td>Africa</td>\n",
       "      <td>Mobile</td>\n",
       "      <td>13.99</td>\n",
       "      <td>1</td>\n",
       "      <td>Crypto</td>\n",
       "      <td>2</td>\n",
       "      <td>0.13</td>\n",
       "      <td>Action</td>\n",
       "    </tr>\n",
       "    <tr>\n",
       "      <th>...</th>\n",
       "      <td>...</td>\n",
       "      <td>...</td>\n",
       "      <td>...</td>\n",
       "      <td>...</td>\n",
       "      <td>...</td>\n",
       "      <td>...</td>\n",
       "      <td>...</td>\n",
       "      <td>...</td>\n",
       "      <td>...</td>\n",
       "      <td>...</td>\n",
       "      <td>...</td>\n",
       "      <td>...</td>\n",
       "      <td>...</td>\n",
       "    </tr>\n",
       "    <tr>\n",
       "      <th>4995</th>\n",
       "      <td>19</td>\n",
       "      <td>Female</td>\n",
       "      <td>Basic</td>\n",
       "      <td>49.17</td>\n",
       "      <td>11</td>\n",
       "      <td>Europe</td>\n",
       "      <td>Desktop</td>\n",
       "      <td>8.99</td>\n",
       "      <td>0</td>\n",
       "      <td>Credit Card</td>\n",
       "      <td>4</td>\n",
       "      <td>4.10</td>\n",
       "      <td>Drama</td>\n",
       "    </tr>\n",
       "    <tr>\n",
       "      <th>4996</th>\n",
       "      <td>67</td>\n",
       "      <td>Female</td>\n",
       "      <td>Basic</td>\n",
       "      <td>9.24</td>\n",
       "      <td>2</td>\n",
       "      <td>North America</td>\n",
       "      <td>Desktop</td>\n",
       "      <td>8.99</td>\n",
       "      <td>0</td>\n",
       "      <td>PayPal</td>\n",
       "      <td>3</td>\n",
       "      <td>3.08</td>\n",
       "      <td>Documentary</td>\n",
       "    </tr>\n",
       "    <tr>\n",
       "      <th>4997</th>\n",
       "      <td>66</td>\n",
       "      <td>Male</td>\n",
       "      <td>Standard</td>\n",
       "      <td>16.55</td>\n",
       "      <td>49</td>\n",
       "      <td>South America</td>\n",
       "      <td>Desktop</td>\n",
       "      <td>13.99</td>\n",
       "      <td>1</td>\n",
       "      <td>Debit Card</td>\n",
       "      <td>2</td>\n",
       "      <td>0.33</td>\n",
       "      <td>Action</td>\n",
       "    </tr>\n",
       "    <tr>\n",
       "      <th>4998</th>\n",
       "      <td>59</td>\n",
       "      <td>Female</td>\n",
       "      <td>Basic</td>\n",
       "      <td>9.12</td>\n",
       "      <td>3</td>\n",
       "      <td>Europe</td>\n",
       "      <td>Laptop</td>\n",
       "      <td>8.99</td>\n",
       "      <td>0</td>\n",
       "      <td>Credit Card</td>\n",
       "      <td>4</td>\n",
       "      <td>2.28</td>\n",
       "      <td>Sci-Fi</td>\n",
       "    </tr>\n",
       "    <tr>\n",
       "      <th>4999</th>\n",
       "      <td>57</td>\n",
       "      <td>Male</td>\n",
       "      <td>Basic</td>\n",
       "      <td>1.62</td>\n",
       "      <td>17</td>\n",
       "      <td>Africa</td>\n",
       "      <td>Mobile</td>\n",
       "      <td>8.99</td>\n",
       "      <td>1</td>\n",
       "      <td>Crypto</td>\n",
       "      <td>2</td>\n",
       "      <td>0.09</td>\n",
       "      <td>Action</td>\n",
       "    </tr>\n",
       "  </tbody>\n",
       "</table>\n",
       "<p>5000 rows × 13 columns</p>\n",
       "</div>"
      ],
      "text/plain": [
       "      age  gender subscription_type  watch_hours  last_login_days  \\\n",
       "0      51   Other             Basic        14.73               29   \n",
       "1      47   Other          Standard         0.70               19   \n",
       "2      27  Female          Standard        16.32               10   \n",
       "3      53   Other           Premium         4.51               12   \n",
       "4      56   Other          Standard         1.89               13   \n",
       "...   ...     ...               ...          ...              ...   \n",
       "4995   19  Female             Basic        49.17               11   \n",
       "4996   67  Female             Basic         9.24                2   \n",
       "4997   66    Male          Standard        16.55               49   \n",
       "4998   59  Female             Basic         9.12                3   \n",
       "4999   57    Male             Basic         1.62               17   \n",
       "\n",
       "             region   device  monthly_fee  churned payment_method  \\\n",
       "0            Africa       TV         8.99        1      Gift Card   \n",
       "1            Europe   Mobile        13.99        1      Gift Card   \n",
       "2              Asia       TV        13.99        0         Crypto   \n",
       "3           Oceania       TV        17.99        1         Crypto   \n",
       "4            Africa   Mobile        13.99        1         Crypto   \n",
       "...             ...      ...          ...      ...            ...   \n",
       "4995         Europe  Desktop         8.99        0    Credit Card   \n",
       "4996  North America  Desktop         8.99        0         PayPal   \n",
       "4997  South America  Desktop        13.99        1     Debit Card   \n",
       "4998         Europe   Laptop         8.99        0    Credit Card   \n",
       "4999         Africa   Mobile         8.99        1         Crypto   \n",
       "\n",
       "      number_of_profiles  avg_watch_time_per_day favorite_genre  \n",
       "0                      1                    0.49         Action  \n",
       "1                      5                    0.03         Sci-Fi  \n",
       "2                      2                    1.48          Drama  \n",
       "3                      2                    0.35         Horror  \n",
       "4                      2                    0.13         Action  \n",
       "...                  ...                     ...            ...  \n",
       "4995                   4                    4.10          Drama  \n",
       "4996                   3                    3.08    Documentary  \n",
       "4997                   2                    0.33         Action  \n",
       "4998                   4                    2.28         Sci-Fi  \n",
       "4999                   2                    0.09         Action  \n",
       "\n",
       "[5000 rows x 13 columns]"
      ]
     },
     "execution_count": 48,
     "metadata": {},
     "output_type": "execute_result"
    }
   ],
   "source": [
    "df"
   ]
  },
  {
   "cell_type": "code",
   "execution_count": null,
   "id": "ea6f870d",
   "metadata": {},
   "outputs": [],
   "source": []
  }
 ],
 "metadata": {
  "kernelspec": {
   "display_name": "venv",
   "language": "python",
   "name": "python3"
  },
  "language_info": {
   "codemirror_mode": {
    "name": "ipython",
    "version": 3
   },
   "file_extension": ".py",
   "mimetype": "text/x-python",
   "name": "python",
   "nbconvert_exporter": "python",
   "pygments_lexer": "ipython3",
   "version": "3.10.18"
  }
 },
 "nbformat": 4,
 "nbformat_minor": 5
}
